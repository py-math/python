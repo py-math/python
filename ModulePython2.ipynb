{
 "cells": [
  {
   "cell_type": "markdown",
   "metadata": {},
   "source": [
    "# Module Python 2\n",
    "\n",
    "En cours d'algorithmique, nous avons vu comment écrire des boucles à l'aide d'un Tant que.\n",
    "\n",
    "Nous allons maintenant en programmation, les utiliser pour résoudre des questions courantes de mathématiques.\n",
    "\n",
    "Dans la suite de ce fichier, si votre programme entre dans une boucle infinie et ne répond plus, choisissez, dans le menu **Kernel** ci-dessus, l'option \n",
    "**Interrupt**.\n",
    "\n",
    "## Une boucle toute simple\n",
    "\n",
    "Prenons comme exemple un moment désagréable dans la vie de Bart Simpson.\n",
    "\n",
    "<IMG SRC=\"bartpython.png\">\n",
    "\n",
    "Nous souhaitons aider Bart en codant un programme en Python écrivant à sa place 10 fois la phrase \"Je ne dois pas ramener de véritable python au lycée.\".\n",
    "\n",
    "Il s'agit donc comme dans le cours d'écrire une boucle avec un compteur pour savoir quand on a fini. Voici l'algorithme.\n",
    "\n",
    "$compteur \\leftarrow 1$<br>\n",
    "**tant que** $compteur \\leqslant 10$ **faire**<br>\n",
    "&nbsp; | &nbsp;&nbsp; Afficher \"Je ne dois pas ramener de véritable python au lycée.\"<br>\n",
    "&nbsp;  | &nbsp;&nbsp; $compteur \\leftarrow compteur + 1$<br>\n",
    "**fin**<br>\n",
    "\n",
    "### Exercice 1\n",
    "\n",
    "Traduire cet algorithme en Python dans le cadre de code ci-dessous.\n",
    "\n",
    "Recopier le code dans le compte-rendu.\n",
    "\n",
    "Si votre programme entre dans une boucle infinie et ne répond plus, choisissez, dans le menu **Kernel** ci-dessus, l'option \n",
    "**Interrupt**."
   ]
  },
  {
   "cell_type": "code",
   "execution_count": null,
   "metadata": {
    "collapsed": true
   },
   "outputs": [],
   "source": [
    "# cadre de code où écrire le programme\n",
    "\n",
    "print(\"Je ne dois pas ramener de véritable python au lycée.\")\n"
   ]
  },
  {
   "cell_type": "markdown",
   "metadata": {},
   "source": [
    "### Exercice 2\n",
    "\n",
    "Modifier le code de l'exercice précédent dans le cadre de code ci-dessus pour numéroter les lignes affichées.\n",
    "\n",
    "Recopier le code dans le compte-rendu."
   ]
  },
  {
   "cell_type": "markdown",
   "metadata": {},
   "source": [
    "### Exercice 3\n",
    "\n",
    "Ecrire dans le cadre de code ci-dessous, un programme en Python qui demande un nombre entier et qui affiche la table de multiplication de ce nombre.\n",
    "\n",
    "Par exemple, si on entre 12, le programme affiche\n",
    "\n",
    "0 \\* 12 = 0<br>1 \\* 12 = 12<br>2 \\* 12 = 24<br>3 \\* 12 = 36<br>4 \\* 12 = 48<br>5 \\* 12 = 60<br>6 \\* 12 = 72<br>7 \\* 12 = 84<br>8 \\* 12 = 96<br>9 \\* 12 = 108<br>10 \\* 12 = 120"
   ]
  },
  {
   "cell_type": "code",
   "execution_count": null,
   "metadata": {},
   "outputs": [],
   "source": [
    "# cadre de code de la table de multiplication\n",
    "n = int(input(\"Vous voulez la table de multiplication de quel nombre entier ? \"))\n",
    "\n"
   ]
  },
  {
   "cell_type": "markdown",
   "metadata": {},
   "source": [
    "## Reprise du problème type du cours\n",
    "\n",
    "On souhaite calculer la somme $S = 1 + 2 + 3 + ... + 99 + 100$\n",
    "\n",
    "Nous avons écrit pour cela l'algorithme suivant :\n",
    "\n",
    "$S \\leftarrow 0$<br>\n",
    "$compteur \\leftarrow 1$<br>\n",
    "**tant que** $compteur \\leqslant 100$ **faire**<br>\n",
    "&nbsp; | &nbsp;&nbsp; $S \\leftarrow S + compteur$<br>\n",
    "&nbsp;  | &nbsp;&nbsp; $compteur \\leftarrow compteur + 1$<br>\n",
    "**fin**<br>\n",
    "Afficher $S$\n",
    "\n",
    "Un fois traduit en Python, on obtient le code suivant :"
   ]
  },
  {
   "cell_type": "code",
   "execution_count": null,
   "metadata": {},
   "outputs": [],
   "source": [
    "S = 0\n",
    "compteur = 1\n",
    "while compteur <= 100:\n",
    "    S = S + compteur\n",
    "    compteur = compteur + 1\n",
    "print(S)"
   ]
  },
  {
   "cell_type": "markdown",
   "metadata": {},
   "source": [
    "### Exercice 4\n",
    "\n",
    "Modifier le programme précédent pour calculer $S = 1 + 2 + 3 + ... + 9999 + 10000$\n",
    "\n",
    "Recopier le résultat obtenu dans votre compte-rendu.\n",
    "\n",
    "Si vous avez voulu faire le malin et choisi un nombre tellement grand que le programme ne répond plus, choisissez, dans le menu **Kernel** ci-dessus, l'option \n",
    "**Interrupt**.\n",
    "\n",
    "### Exercice 5\n",
    "\n",
    "Modifier le code ci-dessous pour calculer $S = 3 + 6 + 9 + ... + 201$ comme dans l'exercice 18.5.2 du cours.\n",
    "\n",
    "Recopier le résultat obtenu dans votre compte-rendu."
   ]
  },
  {
   "cell_type": "code",
   "execution_count": null,
   "metadata": {
    "collapsed": true
   },
   "outputs": [],
   "source": [
    "# code à modifier pour résoudre l'exercice 5\n",
    "S = 0\n",
    "compteur = 1\n",
    "while compteur <= 100:\n",
    "    S = S + compteur\n",
    "    compteur = compteur + 1\n",
    "print(S)"
   ]
  },
  {
   "cell_type": "markdown",
   "metadata": {},
   "source": [
    "### Exercice 6\n",
    "\n",
    "Modifier le code ci-dessous pour calculer $P = 2\\times4\\times6\\times8\\times...\\times40$ comme dans l'exercice 18.5.2 du cours.\n",
    "\n",
    "Recopier le résultat obtenu dans votre compte-rendu."
   ]
  },
  {
   "cell_type": "code",
   "execution_count": null,
   "metadata": {
    "collapsed": true
   },
   "outputs": [],
   "source": [
    "# code à modifier pour résoudre l'exercice 6\n",
    "S = 0\n",
    "compteur = 1\n",
    "while compteur <= 100:\n",
    "    S = S + compteur\n",
    "    compteur = compteur + 1\n",
    "print(S)"
   ]
  },
  {
   "cell_type": "markdown",
   "metadata": {},
   "source": [
    "### Exercice 7\n",
    "\n",
    "Regarder la vidéo suivante :\n",
    "\n",
    "<video width=\"640\" height=\"480\" controls src=\"TeaserSuites.mp4\" />"
   ]
  },
  {
   "cell_type": "markdown",
   "metadata": {},
   "source": [
    "Modifier le code ci-dessous pour calculer le nombre de pas nécessaire au sportif pour monter un escalier de 30 marches avec la technique *superstairs*.\n",
    "\n",
    "Recopier le programme et la réponse sur le compte rendu.\n",
    "\n",
    "Si votre programme entre dans une boucle infinie et ne répond plus, choisissez, dans le menu **Kernel** ci-dessus, l'option \n",
    "**Interrupt**."
   ]
  },
  {
   "cell_type": "code",
   "execution_count": null,
   "metadata": {},
   "outputs": [],
   "source": [
    "# code à modifier pour résoudre l'exercice 7\n",
    "S = 0\n",
    "compteur = 1\n",
    "while compteur <= 100:\n",
    "    S = S + compteur\n",
    "    compteur = compteur + 1\n",
    "print(S)"
   ]
  },
  {
   "cell_type": "markdown",
   "metadata": {},
   "source": [
    "## Recherche du nombre d'étapes nécessaires pour dépasser un seuil\n",
    "\n",
    "### Exemple dans une banque\n",
    "\n",
    "\n",
    "Prenons par exemple le cas où on laisse de l'argent, 2500 € sur un compte rémunéré à 2% pendant plusieurs années sans y toucher.\n",
    "\n",
    "Au bout d'un an, la banque verse sur notre compte des intérêts : 2% de 2500 € \n",
    "\n",
    "$2500+\\dfrac2{100}\\times2500 = 2500\\times(1+0,02)=2500\\times1,02=2550$ €\n",
    "\n",
    "On laisse l'argent sur le compte et on continue d'attendre.\n",
    "\n",
    "An bout de la deuxième année, la banque verse sur notre compte des intérêts : 2% de 2550 €\n",
    "\n",
    "$2550+\\dfrac2{100}\\times2550 = 2550\\times(1+0,02)=2550\\times1,02=2601$ €\n",
    "\n",
    "On remarque que chaque année, la somme que nous avons est multipliée par 1,02.\n",
    "\n",
    "Nous souhaitons savoir au bout de combien d'année nous aurons 4000 €.\n",
    "\n",
    "Nous écrivons alors l'algorithme suivant :\n",
    "\n",
    "$S \\leftarrow 2500$<br>\n",
    "$année \\leftarrow 0$<br>\n",
    "**tant que** $S \\leqslant 4000$ **faire**<br>\n",
    "&nbsp; | &nbsp;&nbsp; $S \\leftarrow S \\times 1,02$<br>\n",
    "&nbsp;  | &nbsp;&nbsp; $année \\leftarrow année + 1$<br>\n",
    "**fin**<br>\n",
    "Afficher $année$\n",
    "\n",
    "### Exercice 8\n",
    "\n",
    "1. Traduire l'algorithme en Python dans le cadre de code ci-dessous et recopier le code sur le compte-rendu.\n",
    "2. Au bout de combien d'année aura-t-on 4000 € ?\n",
    "3. Au bout de combien d'année aura-t-on 10000 € ?\n",
    "4. Sur autre compte rémunéré à 1 %, je dépose 5 €. Au bout de combien d'années aura-t-on un milliard d'euros ?\n",
    "\n",
    "Si votre programme entre dans une boucle infinie et ne répond plus, choisissez, dans le menu **Kernel** ci-dessus, l'option \n",
    "**Interrupt**."
   ]
  },
  {
   "cell_type": "code",
   "execution_count": null,
   "metadata": {
    "collapsed": true
   },
   "outputs": [],
   "source": [
    "# cadre de code où écrire le programme\n"
   ]
  },
  {
   "cell_type": "markdown",
   "metadata": {},
   "source": [
    "### Exemple en laboratoire de biologie\n",
    "\n",
    "Les bactéries se reproduisent par mitose. C'est à dire qu'elles se divisent en deux.\n",
    "\n",
    "Toutes les heures, les bactéries étudiées dans un laboratoire se reproduisent.\n",
    "\n",
    "Donc toutes les heures, le nombre de bactéries double.\n",
    "\n",
    "Un cherche de ce laboratoire met une bactérie dans une boîte de Petri remplie d'eau et de nourriture.\n",
    "\n",
    "### Exercice 9\n",
    "\n",
    "Combien de temps le chercheur devra-t-il attendre pour avoir un million de bactéries ?\n",
    "\n",
    "Ecrire le programme en Python pour lui répondre dans le cadre de code ci-dessous et recopier le code sur le compte-rendu.\n",
    "\n",
    "Si votre programme entre dans une boucle infinie et ne répond plus, choisissez, dans le menu **Kernel** ci-dessus, l'option \n",
    "**Interrupt**."
   ]
  },
  {
   "cell_type": "code",
   "execution_count": null,
   "metadata": {
    "collapsed": true
   },
   "outputs": [],
   "source": [
    "# cadre de code où écrire le programme\n"
   ]
  }
 ],
 "metadata": {
  "kernelspec": {
   "display_name": "Python 3",
   "language": "python",
   "name": "python3"
  },
  "language_info": {
   "codemirror_mode": {
    "name": "ipython",
    "version": 3
   },
   "file_extension": ".py",
   "mimetype": "text/x-python",
   "name": "python",
   "nbconvert_exporter": "python",
   "pygments_lexer": "ipython3",
   "version": "3.6.4"
  }
 },
 "nbformat": 4,
 "nbformat_minor": 2
}
