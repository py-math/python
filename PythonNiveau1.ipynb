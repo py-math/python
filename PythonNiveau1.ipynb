{
 "cells": [
  {
   "cell_type": "markdown",
   "metadata": {},
   "source": [
    "# Python Niveau 1"
   ]
  },
  {
   "cell_type": "markdown",
   "metadata": {},
   "source": [
    "## Python comme calculette"
   ]
  },
  {
   "cell_type": "markdown",
   "metadata": {},
   "source": [
    "Dans le shell de Python, nous pouvons exécuter directement nos commandes. (vous vous rappelez, c'est la fenêtre où l'on écrit après les chevrons >>> ).\n",
    "\n",
    "Essayons quelques calculs..."
   ]
  },
  {
   "cell_type": "code",
   "execution_count": null,
   "metadata": {
    "collapsed": true,
    "scrolled": true
   },
   "outputs": [],
   "source": [
    "# somme d'entiers\n",
    "1664+51"
   ]
  },
  {
   "cell_type": "code",
   "execution_count": null,
   "metadata": {
    "collapsed": true
   },
   "outputs": [],
   "source": [
    "# Toutes taxes comprises avec les décimaux\n",
    "100*1.206"
   ]
  },
  {
   "cell_type": "code",
   "execution_count": null,
   "metadata": {
    "collapsed": true
   },
   "outputs": [],
   "source": [
    "# régles de priorités respectées\n",
    "3+4*9*(3-1)"
   ]
  },
  {
   "cell_type": "code",
   "execution_count": null,
   "metadata": {
    "collapsed": true,
    "scrolled": false
   },
   "outputs": [],
   "source": [
    "# puissances\n",
    "2**5"
   ]
  },
  {
   "cell_type": "code",
   "execution_count": null,
   "metadata": {
    "collapsed": true,
    "scrolled": true
   },
   "outputs": [],
   "source": [
    "# Quoi, un carré négatif ?\n",
    "(1j)**2"
   ]
  },
  {
   "cell_type": "markdown",
   "metadata": {},
   "source": [
    "Et oui, les nombres complexes existent en Python.\n",
    "\n",
    "Toutefois, notre $i$ national s'écrit `j` et doit être précédé par un nombre pour que Python ne le confonde pas avec une variable."
   ]
  },
  {
   "cell_type": "markdown",
   "metadata": {},
   "source": [
    "## Rencontre du troisième type...\n",
    "\n",
    "Essayez :"
   ]
  },
  {
   "cell_type": "code",
   "execution_count": null,
   "metadata": {
    "collapsed": true
   },
   "outputs": [],
   "source": [
    "20//4"
   ]
  },
  {
   "cell_type": "markdown",
   "metadata": {},
   "source": [
    "Comme vous venez de le remarquer, pour diviser 20 par 4, nous avons utilisé une double barre oblique.\n",
    "\n",
    "Que se passerait-il si nous utilisions une seule barre comme tout le monde souhaiterait le faire ?"
   ]
  },
  {
   "cell_type": "code",
   "execution_count": null,
   "metadata": {
    "collapsed": true
   },
   "outputs": [],
   "source": [
    "20/4"
   ]
  },
  {
   "cell_type": "markdown",
   "metadata": {},
   "source": [
    "La réponse est juste mais elle n'est pas écrite comme d'habitude (sans virgule).\n",
    "\n",
    "C'est parce que Python a changé le type de la réponse."
   ]
  },
  {
   "cell_type": "code",
   "execution_count": null,
   "metadata": {
    "collapsed": true
   },
   "outputs": [],
   "source": [
    "type(5)"
   ]
  },
  {
   "cell_type": "code",
   "execution_count": null,
   "metadata": {
    "collapsed": true
   },
   "outputs": [],
   "source": [
    "type(5.0)"
   ]
  },
  {
   "cell_type": "markdown",
   "metadata": {},
   "source": [
    "5 est du type entier `int` (integer en anglais).\n",
    "\n",
    "5.0 est du type réel `float` (flottant en anglais), valeur approchée à 16 chiffres significatifs.\n",
    "\n",
    "Attention, les calculs avec le type flottant sont des calculs de valeurs approchées qui peuvent être surprenants. Nous le verrons dans un niveau supérieur, mais en voici un exemple."
   ]
  },
  {
   "cell_type": "code",
   "execution_count": null,
   "metadata": {
    "collapsed": true
   },
   "outputs": [],
   "source": [
    "# Faire le calcul de tête avant de l'exécuter\n",
    "(-1+0.1+0.1+0.1+0.1+0.1+0.1+0.1+0.1+0.1+0.1)**2"
   ]
  },
  {
   "cell_type": "markdown",
   "metadata": {},
   "source": [
    "## Les différentes classes d'objets\n",
    "\n",
    "En python, nous manipulons divers objets regroupés en `class` (classes) ou types dans beaucoup de langages.\n",
    "\n",
    "Par exemple, la classe `int` permet de calculer sur les entiers de manière exacte. La précision des résultats n'étant limitée que par la mémoire de l'ordinateur.\n",
    "\n",
    "Sur chaque classe d'objets, des opérations sont définies selon les conventions habituelles."
   ]
  },
  {
   "cell_type": "code",
   "execution_count": null,
   "metadata": {
    "collapsed": true,
    "scrolled": true
   },
   "outputs": [],
   "source": [
    "# la calculatrice ne le fait pas ! \n",
    "10**50+1"
   ]
  },
  {
   "cell_type": "markdown",
   "metadata": {},
   "source": [
    "La classe chaîne de caractères `str` (string en anglais) permet de manipuler des suites finies de caractères (toutes langues confondues).\n",
    "\n",
    "Les chaînes de caractères sont données entourées de guillemets ou d'apostrophes.\n",
    "\n",
    "Le symbole de fin de chaîne doit être le même que celui choisi en entrée de chaîne."
   ]
  },
  {
   "cell_type": "code",
   "execution_count": null,
   "metadata": {
    "collapsed": true
   },
   "outputs": [],
   "source": [
    "# On entoure la chaîne de guillemets\n",
    "# pour pouvoir utiliser l'apostrophe\n",
    "\"L'algèbre\""
   ]
  },
  {
   "cell_type": "code",
   "execution_count": null,
   "metadata": {
    "collapsed": true
   },
   "outputs": [],
   "source": [
    "# On entoure la chaîne d'apostrophes\n",
    "# pour pouvoir utiliser des guillemets\n",
    "' \"Que vois-je ?\" dit-il.'\n"
   ]
  },
  {
   "cell_type": "code",
   "execution_count": null,
   "metadata": {
    "collapsed": true
   },
   "outputs": [],
   "source": [
    "type('Bonjour le monde')"
   ]
  },
  {
   "cell_type": "markdown",
   "metadata": {},
   "source": [
    "Il est possible de faire certaines opérations sur les chaînes.\n",
    "\n",
    "L'addition est définie et elle prend le sens d'ajouter une chaîne au bout d'une autre. Cette opération s'appelle la concaténation."
   ]
  },
  {
   "cell_type": "code",
   "execution_count": null,
   "metadata": {
    "collapsed": true
   },
   "outputs": [],
   "source": [
    "# concaténation de chaînes\n",
    "'Que ' + \"j'aime à faire apprendre\""
   ]
  },
  {
   "cell_type": "markdown",
   "metadata": {},
   "source": [
    "## Fonctions de communication avec l'utilisateur\n",
    "\n",
    "Pour afficher à l'écran les résultats de nos calculs de manière plus sympathique, nous utilisons des fonctions.\n",
    "\n",
    "Comme en mathématiques, les fonctions de Python prennent un ou plusieurs arguments donnés entre parenthèses après le nom de la fonction et retourne un résultat (qui peut être vide).\n",
    "\n",
    "Ici, la fonction `print` imprime (affiche) ses $n$ arguments sur l'écran.\n",
    "\n",
    "`print(argument_1, argument_2, argument_3, ..., argument_n)`"
   ]
  },
  {
   "cell_type": "code",
   "execution_count": null,
   "metadata": {
    "collapsed": true
   },
   "outputs": [],
   "source": [
    "# j'ai le droit d'avoir 5% de réduction sur mon livre\n",
    "print('Avec la réduction de', 5, '%, mon livre coûte', 17*(1-5/100), '€.')"
   ]
  },
  {
   "cell_type": "markdown",
   "metadata": {},
   "source": [
    "Pour demander un objet à l'utilisateur, nous pouvons utiliser la fonction `input` (entrée de donnée).\n",
    "\n",
    "La fonction `input` a pour argument une chaîne de caractère (qui contient une indication sur ce qu'il faut donner) et retourne ce qu'a tapé l'utilisateur."
   ]
  },
  {
   "cell_type": "code",
   "execution_count": null,
   "metadata": {
    "collapsed": true
   },
   "outputs": [],
   "source": [
    "input('Quel est votre prénom ? ')"
   ]
  },
  {
   "cell_type": "markdown",
   "metadata": {},
   "source": [
    "## Variables\n",
    "\n",
    "En python, nous référençons les objets à l'aide d'étiquettes pour pouvoir y faire référence plusieurs fois.\n",
    "Ces étiquettes sont aussi appelées variables même si ce mot sera source de confusions dans les niveaux supérieurs.\n",
    "\n",
    "Une étiquette peut contenir toutes sortes de caractères dits alphanumériques (c'est à dire ce qui permet d'écrire dans toutes les langues) mais une étiquette ne doit ni commencer par un chiffre ni contenir des symboles de ponctuations ou d'opérations.\n",
    "\n",
    "L'opération qui associe une étiquette à un objet est appelée une affectation. Elle se présente sous la forme d'une égalité : `étiquette = objet`.\n",
    "\n",
    "Attention, les étiquettes sont sensibles à la casse (aux majuscules) : `Alerte` est différent de `alerte`."
   ]
  },
  {
   "cell_type": "code",
   "execution_count": null,
   "metadata": {
    "collapsed": true
   },
   "outputs": [],
   "source": [
    "# l'objet 1 est référencé par l'étiquette n\n",
    "# Python semble ne rien faire car il a rangé 1 dans sa mémoire.\n",
    "n = 1"
   ]
  },
  {
   "cell_type": "markdown",
   "metadata": {},
   "source": [
    "pas de sortie"
   ]
  },
  {
   "cell_type": "code",
   "execution_count": null,
   "metadata": {
    "collapsed": true
   },
   "outputs": [],
   "source": [
    "# si on demande n, Python nous donne l'objet étiqueté n\n",
    "n"
   ]
  },
  {
   "cell_type": "markdown",
   "metadata": {},
   "source": [
    "En Python, nous ne déclarons pas les variables.\n",
    "\n",
    "Nous donnons une étiquette aux objets que l'on veut conserver au moment où nous les créons.\n",
    "\n",
    "La différence fondamentale avec les variables des autres langages (et les variables mathématiques) est qu'une étiquette peut changer de classe (type) à l'exécution."
   ]
  },
  {
   "cell_type": "code",
   "execution_count": null,
   "metadata": {
    "collapsed": true
   },
   "outputs": [],
   "source": [
    "nombre = 1\n",
    "print(\"nombre est l'étiquette d'un objet du type \",type(nombre),' et contient ',nombre)\n",
    "nombre = 1/2\n",
    "print(\"nombre est maintenant l'étiquette d'un objet du type \",type(nombre),' et contient ',nombre)\n",
    "nombre = '1'\n",
    "print(\"nombre est maintenant l'étiquette d'un objet du type \",type(nombre),' et contient ',nombre)"
   ]
  },
  {
   "cell_type": "markdown",
   "metadata": {},
   "source": [
    "## Première erreur et réaction de Python\n",
    "\n",
    "La dernière ligne du code précédent est bien sûr un piège que l'on rencontre souvent en tant que débutant.\n",
    "\n",
    "Il arrive lorsque l'on utilise la fonction `input`."
   ]
  },
  {
   "cell_type": "code",
   "execution_count": null,
   "metadata": {
    "collapsed": true
   },
   "outputs": [],
   "source": [
    "# Argh, ça marche pas...\n",
    "prixHT = input('Donner le prix Hors Taxes : ')\n",
    "prixTTC = prixHT * (1 + 20.6/100)\n",
    "print('Le prix Toutes Charges Comprises est :',prixTTC)"
   ]
  },
  {
   "cell_type": "markdown",
   "metadata": {},
   "source": [
    "Nous pouvons lire où Python a trouvé une erreur et dans la dernière ligne l'erreur qu'il a trouvée.\n",
    "\n",
    "Ici, une erreur de type. Python ne peut pas multiplier une `sequence` (suite d'objet (ici chaîne de caractères)) par un nombre flottant.\n",
    "\n",
    "Pour le corriger, nous pouvons demander à Python d'évaluer la chaîne de caractère comme une expression mathématique et d'en calculer le résultat. Le résultat est un nombre mais il peut encore être de différentes classes.\n",
    "\n",
    "`nombre = eval('expression mathématique')`"
   ]
  },
  {
   "cell_type": "code",
   "execution_count": null,
   "metadata": {
    "collapsed": true
   },
   "outputs": [],
   "source": [
    "eval('2+2*(5-4)')"
   ]
  },
  {
   "cell_type": "code",
   "execution_count": null,
   "metadata": {
    "collapsed": true
   },
   "outputs": [],
   "source": [
    "eval('10/3')"
   ]
  },
  {
   "cell_type": "code",
   "execution_count": null,
   "metadata": {
    "collapsed": true
   },
   "outputs": [],
   "source": [
    "# une erreur\n",
    "eval('3+')"
   ]
  },
  {
   "cell_type": "markdown",
   "metadata": {},
   "source": [
    "Il reste encore possible d'avoir des erreurs malgré la fonction `eval`.\n",
    "\n",
    "Ici, une erreur de syntaxe : fin de fichier (End Of File) pendant le parcours de la chaîne de caractère. \n",
    "\n",
    "Retour sur l'exemple des prix."
   ]
  },
  {
   "cell_type": "code",
   "execution_count": null,
   "metadata": {
    "collapsed": true
   },
   "outputs": [],
   "source": [
    "# Maintenant, ça marche...\n",
    "prixHT = eval(input('Donner le prix Hors Taxes : '))\n",
    "prixTTC = prixHT * (1 + 20.6/100)\n",
    "print('Le prix Toutes Charges Comprises est :',prixTTC)"
   ]
  },
  {
   "cell_type": "markdown",
   "metadata": {},
   "source": [
    "## Trans-typage\n",
    "\n",
    "Une autre méthode pour changer la classe d'un objet est d'utiliser la fonction classe correspondante."
   ]
  },
  {
   "cell_type": "code",
   "execution_count": null,
   "metadata": {
    "collapsed": true
   },
   "outputs": [],
   "source": [
    "print(type(int('123')))"
   ]
  },
  {
   "cell_type": "code",
   "execution_count": null,
   "metadata": {
    "collapsed": true
   },
   "outputs": [],
   "source": [
    "print(type(int('abc')))"
   ]
  },
  {
   "cell_type": "markdown",
   "metadata": {},
   "source": [
    "Cette méthode n'est pas non plus exempt d'erreur.\n",
    "\n",
    "Il existe un système permettant à Python de gérer ces erreurs. Ce système s'appelle la gestion des exceptions. Malheureusement, ce système est hors programme et trop complexe à mettre en oeuvre dans le cadre de l'algorithmique au lycée."
   ]
  }
 ],
 "metadata": {
  "kernelspec": {
   "display_name": "Python 3",
   "language": "python",
   "name": "python3"
  },
  "language_info": {
   "codemirror_mode": {
    "name": "ipython",
    "version": 3
   },
   "file_extension": ".py",
   "mimetype": "text/x-python",
   "name": "python",
   "nbconvert_exporter": "python",
   "pygments_lexer": "ipython3",
   "version": "3.6.3"
  }
 },
 "nbformat": 4,
 "nbformat_minor": 2
}
