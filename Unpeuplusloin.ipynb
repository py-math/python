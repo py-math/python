{
 "cells": [
  {
   "cell_type": "markdown",
   "metadata": {},
   "source": [
    "# Pour aller un plus loin avec Python ... "
   ]
  },
  {
   "cell_type": "markdown",
   "metadata": {},
   "source": [
    "# Opérateur Lambda et Listes en Compréhension (ou intention)"
   ]
  },
  {
   "cell_type": "markdown",
   "metadata": {},
   "source": [
    "## La Notation lambda "
   ]
  },
  {
   "cell_type": "markdown",
   "metadata": {},
   "source": [
    "Si on souhaite définir une fonction $f$ définie par $f(x)=x^2+3x+5$, \n",
    "\n",
    "il est possible d'utiliser la notation lambda de Python \n",
    "qui est très proche de la notation mathématique  $$f : x \\longmapsto x^2+3x+5$$"
   ]
  },
  {
   "cell_type": "code",
   "execution_count": null,
   "metadata": {
    "collapsed": true
   },
   "outputs": [],
   "source": [
    "f = lambda x: x**2+3*x+5 \n",
    "f(5)"
   ]
  },
  {
   "cell_type": "markdown",
   "metadata": {},
   "source": [
    "Cette notation est plus \"rapide\" que :"
   ]
  },
  {
   "cell_type": "code",
   "execution_count": null,
   "metadata": {
    "collapsed": true
   },
   "outputs": [],
   "source": [
    "def f(x):\n",
    "    return x**2+3*x+5    "
   ]
  },
  {
   "cell_type": "markdown",
   "metadata": {},
   "source": [
    "Les *\"lambdas\"* sont volontairement bridées en Python:\n",
    "\n",
    "+ On ne peut les écrire que sur une ligne.\n",
    "+ On ne peut pas avoir plus d’une instruction dans la fonction."
   ]
  },
  {
   "cell_type": "markdown",
   "metadata": {},
   "source": [
    "## Il est possible d'inclure une condition if"
   ]
  },
  {
   "cell_type": "code",
   "execution_count": null,
   "metadata": {
    "collapsed": true
   },
   "outputs": [],
   "source": [
    "majorité = lambda x : print(\"mineur\") if x < 18 else print(\"majeur\")\n",
    "majorité(15)"
   ]
  },
  {
   "cell_type": "markdown",
   "metadata": {},
   "source": [
    "## D'inclure la récursivité : exemple suite de Fibonacci "
   ]
  },
  {
   "cell_type": "code",
   "execution_count": null,
   "metadata": {
    "collapsed": true
   },
   "outputs": [],
   "source": [
    "fib = lambda x : x if x < 2 else fib(x - 1) + fib(x - 2)\n",
    "fib(14)"
   ]
  },
  {
   "cell_type": "markdown",
   "metadata": {},
   "source": [
    "## Il est également possible d'inclure des fonctions Mathématiques "
   ]
  },
  {
   "cell_type": "code",
   "execution_count": null,
   "metadata": {
    "collapsed": true
   },
   "outputs": [],
   "source": [
    "from math import cos\n",
    "h = lambda x : cos (x)\n",
    "h(.5)"
   ]
  },
  {
   "cell_type": "markdown",
   "metadata": {},
   "source": [
    "## Les listes en compréhension ou intention"
   ]
  },
  {
   "cell_type": "markdown",
   "metadata": {},
   "source": [
    "En Mathématique, on note parfois un ensemble en compréhension :\n",
    "<IMG SRC=\"ensemble.png\">"
   ]
  },
  {
   "cell_type": "code",
   "execution_count": null,
   "metadata": {},
   "outputs": [],
   "source": [
    "# la syntaxe python est simple mais attention aux pièges ....\n",
    "L = [3*k+2 for k in range(26)]\n",
    "print(L)"
   ]
  },
  {
   "cell_type": "markdown",
   "metadata": {},
   "source": [
    "Les possibilités sont nombreuses ... suites, échantillon, tableau de valeurs, ... "
   ]
  },
  {
   "cell_type": "code",
   "execution_count": null,
   "metadata": {
    "collapsed": true
   },
   "outputs": [],
   "source": [
    "L2 = [[x, x**2] for x in liste]\n",
    "print(\"L2=\",L2)"
   ]
  },
  {
   "cell_type": "markdown",
   "metadata": {},
   "source": [
    "## Un tableau de valeurs à partir d'une liste saisie: "
   ]
  },
  {
   "cell_type": "code",
   "execution_count": null,
   "metadata": {
    "collapsed": true
   },
   "outputs": [],
   "source": [
    "liste = [0,1,2,3,4,4.5,10]\n",
    "L1 = [round(3*x,2) for x in liste]\n",
    "print(\"L1=\",L1)"
   ]
  },
  {
   "cell_type": "markdown",
   "metadata": {},
   "source": [
    "Une liste filtrée ... puis une autre :"
   ]
  },
  {
   "cell_type": "code",
   "execution_count": null,
   "metadata": {
    "collapsed": true
   },
   "outputs": [],
   "source": [
    "L3 = [3*x**2 for x in liste if x > 3]  # on filtre avec la condition x>2\n",
    "print(\"L3=\",L3)"
   ]
  },
  {
   "cell_type": "code",
   "execution_count": null,
   "metadata": {
    "collapsed": true
   },
   "outputs": [],
   "source": [
    "L4 = [3*x for x in liste if x**2 < 50] # idem\n",
    "print(\"L4=\",L4)\n"
   ]
  },
  {
   "cell_type": "markdown",
   "metadata": {},
   "source": [
    "## Une liste d'entiers  "
   ]
  },
  {
   "cell_type": "code",
   "execution_count": null,
   "metadata": {
    "collapsed": true
   },
   "outputs": [],
   "source": [
    "L5 = list(range(3))\n",
    "print(\"L5=\",L5)"
   ]
  },
  {
   "cell_type": "markdown",
   "metadata": {},
   "source": [
    "## un tableau de valeurs avec un opérateur lambda  : attention à la syntaxe du lambda ;-)"
   ]
  },
  {
   "cell_type": "code",
   "execution_count": null,
   "metadata": {
    "collapsed": true
   },
   "outputs": [],
   "source": [
    "from math import cos\n",
    "\n",
    "X = [x+0.1 for x in range(10)]\n",
    "L6 = [(lambda x:cos(x))(x)  for x in X] # oh! attention à la syntaxe \n",
    "print(\"L6=\",L6) "
   ]
  },
  {
   "cell_type": "markdown",
   "metadata": {},
   "source": [
    "## Liste en compréhension entier pair de 0 à 100 "
   ]
  },
  {
   "cell_type": "code",
   "execution_count": null,
   "metadata": {
    "collapsed": true
   },
   "outputs": [],
   "source": [
    "L7 = [k for k in range(101) if k%2==0]\n",
    "print(L7)"
   ]
  },
  {
   "cell_type": "markdown",
   "metadata": {},
   "source": [
    "## Liste en compréhension échantillon de 100 nombres aléatoires entre 1 et 50 "
   ]
  },
  {
   "cell_type": "code",
   "execution_count": null,
   "metadata": {
    "collapsed": true
   },
   "outputs": [],
   "source": [
    "# Liste en compréhension échantillon de 100 nombres aléatoires entre 1 et 50 compris ;-)\n",
    "from random import randint\n",
    "L9 = [randint(1,50) for i in range(100)]\n",
    "print(L9)"
   ]
  },
  {
   "cell_type": "markdown",
   "metadata": {},
   "source": [
    "# Exercices sur les listes en compréhension :"
   ]
  },
  {
   "cell_type": "markdown",
   "metadata": {},
   "source": [
    "à l'aide des listes en compréhension et de la notation lamda construire :\n",
    "\n",
    "+ une liste d'entier naturels impairs de 1 à 100\n",
    "+ les carrés de tous les entiers compris entre 1 et 100(inclus)\n",
    "+ les couples d’entiers de la forme (x, y) tels que x ≤ y et les deux entiers x et y sont tous deux\n",
    "inférieurs à 10 \n",
    "+ ... "
   ]
  },
  {
   "cell_type": "code",
   "execution_count": null,
   "metadata": {
    "collapsed": true
   },
   "outputs": [],
   "source": [
    "# essayer le code ici"
   ]
  },
  {
   "cell_type": "code",
   "execution_count": null,
   "metadata": {
    "collapsed": true
   },
   "outputs": [],
   "source": [
    "# essayer le code ici"
   ]
  },
  {
   "cell_type": "code",
   "execution_count": null,
   "metadata": {
    "collapsed": true
   },
   "outputs": [],
   "source": [
    "# essayer le code ici"
   ]
  },
  {
   "cell_type": "markdown",
   "metadata": {},
   "source": [
    " # et l'aventure programmer en Python continue ..."
   ]
  }
 ],
 "metadata": {
  "kernelspec": {
   "display_name": "Python 3",
   "language": "python",
   "name": "python3"
  },
  "language_info": {
   "codemirror_mode": {
    "name": "ipython",
    "version": 3
   },
   "file_extension": ".py",
   "mimetype": "text/x-python",
   "name": "python",
   "nbconvert_exporter": "python",
   "pygments_lexer": "ipython3",
   "version": "3.6.3"
  }
 },
 "nbformat": 4,
 "nbformat_minor": 2
}
