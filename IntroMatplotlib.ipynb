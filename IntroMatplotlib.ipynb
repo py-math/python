{
 "cells": [
  {
   "cell_type": "markdown",
   "metadata": {},
   "source": [
    "# Une introduction à Matplotlib"
   ]
  },
  {
   "cell_type": "markdown",
   "metadata": {},
   "source": [
    "Lorsque l'on intègre Python dans des séances, il est important de pouvoir illustrer les notions avec des graphiques.\n",
    "Certaines librairies de Python permettent de réaliser ces graphiques.\n",
    "\n",
    "Ce notebook présente la librairie Matplot qui, sans être la seule, est une de celle qui est le plus utilisée en Python.  "
   ]
  },
  {
   "cell_type": "markdown",
   "metadata": {},
   "source": [
    "Source : Wikipédia \n",
    "\n",
    "Matplotlib est une bibliothèque du langage de programmation Python destinée à tracer et visualiser des données sous formes de graphiques. Elle peut être combinée avec les bibliothèques python de calcul scientifique NumPy et SciPy. \n",
    "Matplotlib est distribuée librement et gratuitement.\n",
    "Sa version stable actuelle est compatible avec la version 3 de Python.\n",
    "\n",
    "Plusieurs points rendent cette bibliothèque intéressante :\n",
    "\n",
    "+ Export possible en de nombreux formats matriciels (PNG, JPEG...) et vectoriels (PDF, SVG...)\n",
    "+ Documentation en ligne en quantité, nombreux exemples disponibles sur internet\n",
    "+ Forte communauté très active\n",
    "+ Bibliothèque haut niveau : idéale pour le calcul interactif\n",
    "\n",
    "[Matplot sur wikipédia](https://fr.wikipedia.org/wiki/Matplotlib)"
   ]
  },
  {
   "cell_type": "markdown",
   "metadata": {},
   "source": [
    "# Représentation Graphique de fonction"
   ]
  },
  {
   "cell_type": "code",
   "execution_count": null,
   "metadata": {
    "collapsed": true
   },
   "outputs": [],
   "source": [
    "# Importation de  numpy pour les \"array\" : objets plus \"commodes\" que les listes \n",
    "# Importation de matplotlib pour réaliser des graphiques \n",
    "import numpy as np\n",
    "import matplotlib.pyplot as plt"
   ]
  },
  {
   "cell_type": "code",
   "execution_count": null,
   "metadata": {
    "collapsed": true
   },
   "outputs": [],
   "source": [
    "xvals = np.arange(-3,3,0.1)\n",
    "# print(xvals)"
   ]
  },
  {
   "cell_type": "code",
   "execution_count": null,
   "metadata": {},
   "outputs": [],
   "source": [
    "plt.plot(xvals, np.sin(xvals))\n",
    "\n",
    "plt.show()"
   ]
  },
  {
   "cell_type": "markdown",
   "metadata": {},
   "source": [
    "Dans cet exemple, j'ai utilisé la fonction sinus qui est dans le module numpy.\n",
    "\n",
    "Il est possible d'utiliser une autre fonction comme une fonction exponentielle. \n",
    "\n",
    "Pour trouver les fonctions disponibles dans numpy , utiliser : \n",
    "[Fonctions mathématiques de Numpy](https://docs.scipy.org/doc/numpy-1.13.0/reference/routines.math.html)"
   ]
  },
  {
   "cell_type": "code",
   "execution_count": null,
   "metadata": {},
   "outputs": [],
   "source": [
    "plt.plot(xvals,np.exp(-xvals**2))\n",
    "# plt.xticks(np.arange(-3,3,0.5)) \n",
    "\n",
    "plt.show()"
   ]
  },
  {
   "cell_type": "markdown",
   "metadata": {
    "collapsed": true
   },
   "source": [
    "il est possible d'ajouter autant de courbes que l'on souhaite ... comme ci dessous :"
   ]
  },
  {
   "cell_type": "code",
   "execution_count": null,
   "metadata": {},
   "outputs": [],
   "source": [
    "plt.plot(xvals,np.cos(xvals))\n",
    "plt.plot(xvals,np.sin(xvals))\n",
    "\n",
    "plt.show()"
   ]
  },
  {
   "cell_type": "markdown",
   "metadata": {},
   "source": [
    "On peut également ajouter des étiquettes sur les axes et une légende et une grille."
   ]
  },
  {
   "cell_type": "code",
   "execution_count": null,
   "metadata": {},
   "outputs": [],
   "source": [
    "%matplotlib inline \n",
    "plt.plot(xvals,np.sin(xvals),label='sinus')\n",
    "plt.plot(xvals,np.cos(xvals),label='cosinus')\n",
    "plt.xlabel(\"axe des abscisses\")\n",
    "plt.ylabel(\"axe des ordonnées\")\n",
    "plt.legend()\n",
    "plt.grid()\n",
    "\n",
    "plt.show()"
   ]
  },
  {
   "cell_type": "markdown",
   "metadata": {
    "collapsed": true
   },
   "source": [
    "Il est également possible de changer la couleur, la taille du trait ,... "
   ]
  },
  {
   "cell_type": "markdown",
   "metadata": {},
   "source": [
    "Il est possible de grapher plusieurs fonctions en même temps avec **subplot**\n",
    "\n",
    "[Matplotlib subplot](https://matplotlib.org/api/_as_gen/matplotlib.pyplot.subplot.html#matplotlib.pyplot.subplot)"
   ]
  },
  {
   "cell_type": "code",
   "execution_count": null,
   "metadata": {},
   "outputs": [],
   "source": [
    "import numpy as np\n",
    "import matplotlib.pyplot as plt\n",
    "\n",
    "plt.figure(1)\n",
    "plt.subplot(221) # 2 lignes 2 colonnes index=1\n",
    "plt.plot(xvals,np.cos(xvals))\n",
    "\n",
    "plt.subplot(222)\n",
    "plt.plot(xvals,np.sin(xvals))\n",
    "\n",
    "plt.subplot(223)\n",
    "plt.plot(xvals,(np.sin(xvals))**2)\n",
    "\n",
    "plt.subplot(224)\n",
    "plt.plot(xvals,(np.cos(xvals)**2))\n",
    "\n",
    "plt.show()"
   ]
  },
  {
   "cell_type": "markdown",
   "metadata": {},
   "source": [
    "##  Matplotlib et Notebook : Mode en ligne et hors ligne \n",
    "\n",
    "Par défaut sur certains navigateurs, les graphiques s'affichent comme avec un programme Python « normal ». Par exemple, le programme suivant ouvre une nouvelle fenêtre :"
   ]
  },
  {
   "cell_type": "code",
   "execution_count": null,
   "metadata": {},
   "outputs": [],
   "source": [
    "import matplotlib.pyplot as plt\n",
    "import numpy as np\n",
    "\n",
    "x = np.linspace(0, 10, 1000)\n",
    "y = np.sin(x)\n",
    "plt.plot(x, y)\n",
    "\n",
    "plt.show()"
   ]
  },
  {
   "cell_type": "markdown",
   "metadata": {},
   "source": [
    "On peut changer ce comportement et demander à afficher les graphiques directement dans le notebook (moins interactif, mais souvent plus pratique) comme ceci :"
   ]
  },
  {
   "cell_type": "code",
   "execution_count": null,
   "metadata": {
    "collapsed": true
   },
   "outputs": [],
   "source": [
    "%matplotlib inline"
   ]
  },
  {
   "cell_type": "code",
   "execution_count": null,
   "metadata": {},
   "outputs": [],
   "source": [
    "plt.plot(x, y)\n",
    "\n",
    "plt.show()"
   ]
  },
  {
   "cell_type": "markdown",
   "metadata": {},
   "source": [
    "On peut revenir au comportement par défaut avec `%matplotlib` sans argument :"
   ]
  },
  {
   "cell_type": "code",
   "execution_count": null,
   "metadata": {},
   "outputs": [],
   "source": [
    "%matplotlib"
   ]
  },
  {
   "cell_type": "code",
   "execution_count": null,
   "metadata": {},
   "outputs": [],
   "source": [
    "plt.plot(x, y)\n",
    "\n",
    "plt.show()"
   ]
  },
  {
   "cell_type": "markdown",
   "metadata": {},
   "source": [
    "# Nuage de points : fonction Scatter"
   ]
  },
  {
   "cell_type": "code",
   "execution_count": null,
   "metadata": {},
   "outputs": [],
   "source": [
    "% matplotlib inline\n",
    "X = np.array([0,1,2,4,6,8,10])\n",
    "Y = np.array([100,110,145,150,125,154,145])\n",
    "plt.scatter(X, Y)\n",
    "\n",
    "plt.show()"
   ]
  },
  {
   "cell_type": "markdown",
   "metadata": {},
   "source": [
    "Un nuage de points plus évolué : "
   ]
  },
  {
   "cell_type": "code",
   "execution_count": null,
   "metadata": {},
   "outputs": [],
   "source": [
    "import numpy as np\n",
    "import matplotlib.pyplot as plt\n",
    "N = 50\n",
    "x = np.random.rand(N)\n",
    "y = np.random.rand(N)\n",
    "couleur = np.random.rand(N)\n",
    "aire = np.pi * (15 * np.random.rand(N))**2  # 0 to 15 points\n",
    "plt.scatter(x, y, s=aire, c=couleur, alpha=0.5)\n",
    "\n",
    "plt.show()"
   ]
  },
  {
   "cell_type": "markdown",
   "metadata": {
    "collapsed": true
   },
   "source": [
    "# Diagramme circulaire "
   ]
  },
  {
   "cell_type": "code",
   "execution_count": null,
   "metadata": {},
   "outputs": [],
   "source": [
    "plt.figure(figsize = (5, 5))\n",
    "x = [1, 2, 3, 4, 10]\n",
    "plt.pie(x, labels = ['A', 'B', 'C', 'D', 'E'])\n",
    "plt.legend()\n",
    "\n",
    "plt.show()"
   ]
  },
  {
   "cell_type": "markdown",
   "metadata": {
    "collapsed": true
   },
   "source": [
    "# Histogramme "
   ]
  },
  {
   "cell_type": "code",
   "execution_count": null,
   "metadata": {},
   "outputs": [],
   "source": [
    "x = [1, 2, 2, 3, 4, 4, 4, 4, 4, 5, 5]\n",
    "plt.hist(x, range = (0, 5), bins = 5, color = 'yellow', edgecolor = 'red')\n",
    "plt.xlabel('valeurs')\n",
    "plt.ylabel('nombres')\n",
    "plt.title('Exemple d\\' histogramme simple')\n",
    "\n",
    "plt.show()"
   ]
  },
  {
   "cell_type": "markdown",
   "metadata": {},
   "source": [
    "# Boites à Moustaches "
   ]
  },
  {
   "cell_type": "code",
   "execution_count": null,
   "metadata": {},
   "outputs": [],
   "source": [
    "plt.subplot(121)\n",
    "plt.boxplot([[1, 2, 3, 4, 5, 13], [1,7, 7, 7, 10, 10, 11, 12], [1, 2, 3]])\n",
    "plt.ylim(0, 14)\n",
    "plt.title('boîtes à Moustaches')\n",
    "\n",
    "plt.show()"
   ]
  },
  {
   "cell_type": "markdown",
   "metadata": {},
   "source": [
    " # Diagramme en bâtons"
   ]
  },
  {
   "cell_type": "code",
   "execution_count": null,
   "metadata": {},
   "outputs": [],
   "source": [
    "plt.bar(range(5), [1, 3, 3, 5, 4], width = 0.6, color = 'yellow',\n",
    "        edgecolor = 'blue', linewidth = 2, capsize = 10)\n",
    "plt.xticks([x + 0.6 / 2 for x in range(5)], ['A', 'B', 'C', 'D', 'E'],\n",
    "           rotation = 0)\n",
    "\n",
    "plt.show()"
   ]
  },
  {
   "cell_type": "markdown",
   "metadata": {},
   "source": [
    "# Ressources pour aller plus loin "
   ]
  },
  {
   "cell_type": "markdown",
   "metadata": {},
   "source": [
    "Le site officiel de matplotlib contient de nombreux exemples et des tutoriels pour aider à la prise en main :\n",
    "\n",
    "[Matplotlib] (https://matplotlib.org/)\n",
    "\n"
   ]
  }
 ],
 "metadata": {
  "kernelspec": {
   "display_name": "Python 3",
   "language": "python",
   "name": "python3"
  },
  "language_info": {
   "codemirror_mode": {
    "name": "ipython",
    "version": 3
   },
   "file_extension": ".py",
   "mimetype": "text/x-python",
   "name": "python",
   "nbconvert_exporter": "python",
   "pygments_lexer": "ipython3",
   "version": "3.6.3"
  }
 },
 "nbformat": 4,
 "nbformat_minor": 1
}
