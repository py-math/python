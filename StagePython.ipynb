{
 "cells": [
  {
   "cell_type": "markdown",
   "metadata": {},
   "source": [
    "# Stage Python\n",
    "\n",
    "## Au menu : spécialités à base de Python\n",
    "\n",
    "Voici le fichier principal du stage. À partir de ce fichier, vous pouvez accéder rapidement à tous les exercices.\n",
    "\n",
    "Nous allons utiliser jupyter qui permet d'avoir dans un fichier html des véritables morceaux de Python.\n",
    "\n",
    "<table><tr><td>Tout repose sur cette barre d'icônes</td><td> <IMG SRC=\"run.png\"></td><td> en haut de cette page.</td></tr>\n",
    "<tr><td></td><td>**run cell, interrupt kernel, restart kernel**</td><td></td></tr></table>\n",
    "\n",
    "L'icône **run cell**, qui est la plus à gauche dans la barre, permet de faire fonctionner une cellule (paragraphe)\n",
    "\n",
    "- Elle permet d'exécuter du code source Python (code).\n",
    "- Elle permet d'afficher correctement les paragraphes d'explications (markdown)\n",
    "\n",
    "L'icône **interrupt kernel**, qui est au centre dans la barre, permet d'arrêter du code Python \"planté\".\n",
    "\n",
    "L'icône **restart kernel**, qui est la plus à droite dans la barre, permet de remettre Python à zéro.\n",
    "\n",
    "Essayez l'icône **Run cell** sur le code suivant pour le voir exécuté."
   ]
  },
  {
   "cell_type": "code",
   "execution_count": null,
   "metadata": {
    "collapsed": true
   },
   "outputs": [],
   "source": [
    "print(\"Bonjour le monde !\")"
   ]
  },
  {
   "cell_type": "markdown",
   "metadata": {},
   "source": [
    "## Après avoir subi le premier diaporama, un peu d'action.\n",
    "\n",
    "[Niveau1](PythonNiveau1.ipynb) : Ce lien vous emmène vers les types et l'usage des variables.\n",
    "\n",
    "[Niveau2](PythonNiveau2.ipynb) : Ce lien vous emmène vers les alternatives (si) et les boucles (tant que).\n",
    "\n",
    "[Niveau3](PythonNiveau3.ipynb) : Ce lien vous emmène vers les fonctions et les variables locales.\n",
    "\n",
    "[Niveau4](PythonNiveau4.ipynb) : Ce lien vous emmène vers les listes et les boucles (pour).\n"
   ]
  },
  {
   "cell_type": "markdown",
   "metadata": {},
   "source": [
    "## Séances faites en cours de seconde, davantage d'action\n",
    "\n",
    "[Module1](ModulePython1.ipynb) : Ce lien vous emmène vers un TP sur les alternatives (si).\n",
    "\n",
    "[Module2](ModulePython2.ipynb) : Ce lien vous emmène vers les boucles (tant que)."
   ]
  },
  {
   "cell_type": "markdown",
   "metadata": {},
   "source": [
    "## Encore plus d'action\n",
    "\n",
    "[Erreurs](ErreursPython.ipynb) : Ce lien vous emmène vers les erreurs courantes des élèves (ou des profs débutants).\n",
    "\n",
    "[Images](Images.ipynb) : Ce lien vous emmène vers les listes et les boucles."
   ]
  },
  {
   "cell_type": "markdown",
   "metadata": {},
   "source": [
    "## Séance de pluri faite en cours de seconde\n",
    "\n",
    "[Escargots](Escargots.ipynb) : Ce lien vous emmène vers les listes et les boucles. (Pluri Maths-Bio)\n",
    "\n"
   ]
  },
  {
   "cell_type": "markdown",
   "metadata": {},
   "source": [
    "## Utilisation d'un module pour tracer des graphiques\n",
    "\n",
    "[Matplotlib](IntroMatplotlib.ipynb) : Ce lien vous emmène vers le monde des graphiques (courbes et statistiques)\n",
    "\n",
    "[turtle](https://zestedesavoir.com/tutoriels/944/a-la-decouverte-de-turtle/) : Ce lien vous emmène vers une aide en ligne sur ce module, le TP se fait avec Spyder (voi polycopié)"
   ]
  },
  {
   "cell_type": "markdown",
   "metadata": {},
   "source": [
    "## Utilisation d'un module pour tracer des graphiques\n",
    "\n",
    "[Un peu plus loin](Unpeuplusloin.ipynb) : Ce lien est pour les plus rapides."
   ]
  },
  {
   "cell_type": "markdown",
   "metadata": {},
   "source": [
    "## Après avoir subi le second diaporama, énormément d'action.\n",
    "\n",
    "[15 Défis](defis.ipynb) : Ce lien vous emmène vers 15 défis à faire tout seul comme un(e) grand(e). \n"
   ]
  }
 ],
 "metadata": {
  "kernelspec": {
   "display_name": "Python 3",
   "language": "python",
   "name": "python3"
  },
  "language_info": {
   "codemirror_mode": {
    "name": "ipython",
    "version": 3
   },
   "file_extension": ".py",
   "mimetype": "text/x-python",
   "name": "python",
   "nbconvert_exporter": "python",
   "pygments_lexer": "ipython3",
   "version": "3.6.3"
  }
 },
 "nbformat": 4,
 "nbformat_minor": 2
}
