{
 "cells": [
  {
   "cell_type": "markdown",
   "metadata": {},
   "source": [
    "# Des solutions pour les défis de programmation en Python 3 "
   ]
  },
  {
   "cell_type": "markdown",
   "metadata": {},
   "source": [
    "Les défis guident  \n",
    "Il est parfois possible de faire autrement, c'est pourquoi plusieurs solutions sont proposées. "
   ]
  },
  {
   "cell_type": "markdown",
   "metadata": {},
   "source": [
    "## Défi 1 : Conversion Degré-radians  "
   ]
  },
  {
   "cell_type": "markdown",
   "metadata": {},
   "source": [
    "Écrire un script Python qui permet de saisir les valeurs degrés, minutes et secondes de la mesure \n",
    "d'un angle, puis de convertir en radians. \n",
    "Faire également la conversion inverse depuis une saisie en radians."
   ]
  },
  {
   "cell_type": "markdown",
   "metadata": {},
   "source": [
    "**Indications**\n",
    "\n",
    "+ n'oubliez pas le transtypage car une saisie avec `input` a comme type une chaîne de caractère\n",
    "+ pour la conversion inverse , il est possible d'utiliser la fonction degrees du module math\n"
   ]
  },
  {
   "cell_type": "markdown",
   "metadata": {},
   "source": [
    "## Défi 2 : Équations du second degré dans $\\mathbb{R}$"
   ]
  },
  {
   "cell_type": "markdown",
   "metadata": {},
   "source": [
    "Écrire un script Python qui permet de déterminer les solutions de l'équation: $ax^2+bx+c=0$"
   ]
  },
  {
   "cell_type": "markdown",
   "metadata": {},
   "source": [
    "** Indications et prolongement possible**\n",
    "+ il est possible de vérifier que $a\\not=0$ en utilisant un **tant que** \n",
    "+ prolongement possible dans $\\mathbb{C}$\n",
    "+ vous pouvez utiliser le elif qui permet une syntaxe plus compacte"
   ]
  },
  {
   "cell_type": "markdown",
   "metadata": {},
   "source": [
    "## Défi 3 : Périmètre et Aire "
   ]
  },
  {
   "cell_type": "markdown",
   "metadata": {},
   "source": [
    "Écrire un script qui calcule le périmètre et l'aire d'un triangle quelconque dont on saisira les trois côtés par la commande `input()`.\n",
    "\n",
    "Si les longueurs des côtés saisies ne forment pas un triangle, afficher un message d'erreur et ne pas faire les calculs.\n",
    "\n",
    "*Rappels :*\n",
    "\n",
    "- L'aire vaut : $A = \\sqrt{p(p-a)(p-b)(p-c)}$ où $p$ est le demi-périmètre $\\dfrac{a+b+c}{2}$, $a$, $b$ et $c$ sont les longueurs des trois côtés.\n",
    "- Pour que trois côtés forment un triangle, il faut que la longueur de chacun soit inférieure à la somme des deux autres. "
   ]
  },
  {
   "cell_type": "markdown",
   "metadata": {},
   "source": [
    "**Prolongement possible **: \n",
    "\n",
    "Saisir trois longueurs $a$, $b$ et $c$. Déterminer si elles permettent de construire un triangle pour les contraintes de construction d'un triangle à partir de trois longueurs).\n",
    "\n",
    "Dans l'affirmative, préciser si le triangle est [rectangle](https://fr.wikipedia.org/wiki/Triangle_rectangle), isocèle (deux côtés égaux), [équilatéral](https://fr.wikipedia.org/wiki/Triangle_%C3%A9quilat%C3%A9ral) ou quelconque.\n",
    "\n",
    "Sinon, afficher : `\"Les longueurs saisies ne forment pas un triangle !\"`"
   ]
  },
  {
   "cell_type": "markdown",
   "metadata": {},
   "source": [
    "## Défi 4 :  Produit Scalaire "
   ]
  },
  {
   "cell_type": "markdown",
   "metadata": {},
   "source": [
    "Dans l'espace muni d'un repère orthonormé : \n",
    "\n",
    "On représente des vecteurs par des listes de 3 éléments.\n",
    "\n",
    "Saisir deux listes de trois flottants. Par exemple :\n",
    "\n",
    "+ u = [1.0, 2.0, 3.0]\n",
    "+ v = [4.0, 5.0, 6.0]\n",
    "\n",
    "Écrire un script qui calcule et affiche le produit scalaire de ces deux vecteurs et le cosinus de l'angle entre ces deux vecteurs.\n",
    "\n",
    "Quel est le cosinus de l'angle entre les vecteurs u et v ?"
   ]
  },
  {
   "cell_type": "markdown",
   "metadata": {},
   "source": [
    "**Rappels :** \n",
    "\n",
    "- Le produit scalaire de deux vecteurs $u(u_x, u_y, u_z)$ et $v(v_x, v_y, v_z)$ est $ps = (u_x . v_x + u_y . v_y + u_z . v_z)$.\n",
    "- La norme d'un vecteur  $v(x, y, z)$ est $||v|| = \\sqrt{x^2 + y^2 + z^2}$.\n",
    "- Le cosinus entre les vecteurs v et w est $\\dfrac{ps}{||v|| . ||v||}$."
   ]
  },
  {
   "cell_type": "markdown",
   "metadata": {},
   "source": [
    "## Défi 5 : Remplacement dans une chaîne de caractères ADN (Inspiré du MOOC Algorithmes et génomes) "
   ]
  },
  {
   "cell_type": "markdown",
   "metadata": {},
   "source": [
    "Soit la chaîne de caractères suivante :\n",
    "\n",
    "`dna = \"tgaattctatgaatggactgtcccaaagaagtagggacccac\"`\n",
    "\n",
    "Écrire un script qui affiche la chaîne `dna` après avoir remplacé la lettre `\"a\"` par `\"t\"` **et** la lettre  `\"t\"` par `\"g\"`."
   ]
  },
  {
   "cell_type": "markdown",
   "metadata": {},
   "source": [
    "## Défi 6 : Palindrome et ADN (Inspiré du MOOC Algorithmes et génomes)\n"
   ]
  },
  {
   "cell_type": "markdown",
   "metadata": {},
   "source": [
    "Soit la chaîne de caractères suivante :\n",
    "\n",
    "\tadn = \"tgaattctatgaatggactgtcccaaagaagtagggacccac\"\n",
    "    \n",
    "Afficher la chaîne `dna`, [palindrome](https://fr.wikipedia.org/wiki/Palindrome) de la chaine `adn`.\n",
    "\n",
    "**Conseil :** N'utilisez que la gestion des indices de la chaîne `adn`."
   ]
  },
  {
   "cell_type": "markdown",
   "metadata": {},
   "source": [
    "## Défi 7 : Générer des  couples de nombres réels "
   ]
  },
  {
   "cell_type": "markdown",
   "metadata": {},
   "source": [
    "Écrire un script qui fasse saisir deux entiers $p$ et $q$, puis qui affiche tous les couples $(x, y)$, \n",
    "$x$ étant un entier compris entre $1$ et $p$ et $y$ un entier compris entre 1 et $q$. \n",
    "\n",
    "L’affichage doit se faire comme sur l’exemple suivant, qui correspond à $p = 3$ et $q = 5$ :\n",
    "\n",
    "```python\n",
    "(1, 1)  (1, 2)  (1, 3)  (1, 4)  (1, 5) \n",
    "(2, 1)  (2, 2)  (2, 3)  (2, 4)  (2, 5) \n",
    "(3, 1)  (3, 2)  (3, 3)  (3, 4)  (3, 5)\n",
    "```"
   ]
  },
  {
   "cell_type": "markdown",
   "metadata": {},
   "source": [
    "## Défi 8 : Une suite récurrente (inspiré par un sujet de bac S)"
   ]
  },
  {
   "cell_type": "markdown",
   "metadata": {},
   "source": [
    "On considère la suite définie par $\\left(u_{n}\\right)$ définie par son premier terme $u_{1}=\\dfrac{3}{2}$ et la relation  de récurrence : $u_{n+1} =\\dfrac{nu_{n}+1}{2(n + 1)}$"
   ]
  },
  {
   "cell_type": "markdown",
   "metadata": {},
   "source": [
    "+ Construire un script permettant de calculer et d'afficher une terme de rang $n$\n",
    "+En s'inspirant de du programme précédent, écrire un algorithme permettant de déterminer et d'afficher le plus petit entier $n$ tel que $u_n<k$ où $k$ est un réel donné. \n",
    "+ En s'inspirant de du programme précédent, écrire un algorithme permettant de déterminer et d'afficher le plus petit entier $n$ tel que $u_{n} < k$ où $k$ est un réel donné. \n"
   ]
  },
  {
   "cell_type": "markdown",
   "metadata": {},
   "source": [
    "## Défi 9 : Constante de Champernowne (inspiré du MOOC calcul formel avec Sage )"
   ]
  },
  {
   "cell_type": "markdown",
   "metadata": {},
   "source": [
    "Le nombre de Champernowne est le nombre dont le développement décimal est constitué de la suite des entiers naturels juxtaposés dans l'ordre.\n",
    "C=0,123456789101112131415...\n",
    "Ce nombre possède de nombreuses propriétés. \n",
    "\n",
    "[*Constante de Champernowne*](https://fr.wikipedia.org/wiki/Constante_de_Champernowne)\n",
    "\n",
    "Écrire un programme qui permet d'écrire cette constante après avoir saisi un entier $n$"
   ]
  },
  {
   "cell_type": "markdown",
   "metadata": {},
   "source": [
    "## Défi 10 : Tabuler une fonction "
   ]
  },
  {
   "cell_type": "markdown",
   "metadata": {},
   "source": [
    "Écrire une fonction $f$ qui retourne $f(x) = 2 x^3 + x − 5$.\n",
    "\n",
    "Écrire une fonction `tabuler` avec quatre paramètres : `fonction`, `borneInf`, `borneSup` et `nbPas` (où  `borneInf < borneSup` et `nbPas >= 2`). Cette fonction doit afficher les valeurs résultant de l'appel à `fonction`, avec un $x$ de `borneInf` à `borneSup`, tous les `nbPas`. \n",
    "\n",
    "Dans une seconde cellule, tester la fonction `tabuler` avec la fonction de calcul $f$ après avoir saisi les deux bornes et le nombre de pas."
   ]
  },
  {
   "cell_type": "markdown",
   "metadata": {},
   "source": [
    "## Défi 11 : Nombre aléatoire "
   ]
  },
  {
   "cell_type": "markdown",
   "metadata": {},
   "source": [
    "La fonction `randrange(n)` du module `random` renvoie un entier aléatoire compris entre 0 et `n-1`.\n",
    "\n",
    "Écrire un module contenant une fonction sans argument qui tire un nombre aléatoire dans l'intervalle $[0, 100]$ \n",
    "puis demande à l'utilisateur d'entrer un nombre dans ce même intervalle (le vérifier). \n",
    "La fonction retourne ces deux nombres.\n",
    "\n",
    "Écrire un programme principal qui exploite cette fonction et informe l’utilisateur \n",
    "si sa saisie est inférieure, égale ou supérieure au tirage aléatoire.\n"
   ]
  },
  {
   "cell_type": "markdown",
   "metadata": {},
   "source": [
    "## Défi 12 : Factorielle d'un entier $n$ "
   ]
  },
  {
   "cell_type": "markdown",
   "metadata": {},
   "source": [
    "Écrire une fonction pour calculer la factorielle d'un entier $n$"
   ]
  },
  {
   "cell_type": "markdown",
   "metadata": {},
   "source": [
    "** Prolongement ** \n",
    "\n",
    "+ proposer une version itérative\n",
    "+ et une version récursive ;-)"
   ]
  },
  {
   "cell_type": "markdown",
   "metadata": {},
   "source": [
    "## Défi 13 : Nombres Parfaits \n"
   ]
  },
  {
   "cell_type": "markdown",
   "metadata": {},
   "source": [
    "Un nombre est *parfait* si il est égal à la somme de ses diviseurs propres.\n",
    "Un diviseur *propre* est un diviseur autre que le nombre lui même.\n",
    "\n",
    "6 est parfait car $6=3+2+1$\n",
    "\n",
    "+ Proposer une fonction qui teste si un entier est parfait.\n",
    "+ Écrire uen fonction qui renvoie la liste des entiers parfait inférieur à n\n",
    "+ Écrire une fonction somme(n) qui donne l'égalité nombre =somme des diviseurs 6=3+2+1 "
   ]
  },
  {
   "cell_type": "markdown",
   "metadata": {},
   "source": [
    "## Défi 14 : Triplets Pythagoricien "
   ]
  },
  {
   "cell_type": "markdown",
   "metadata": {},
   "source": [
    "Un triplet Pythagoricien est un triplet tel que $x^2+y^2=z^2$ où $\\left(x,y,z\\right)$ est un triplet d'entiers.\n",
    "\n",
    "+ Proposer un script qui prend un argument un nombre entier et qui renvoie la liste des triplets dont les composants sont inférieurs strictement à $n$\n",
    "+ combien y-a-t-il de triplets Pythagoricien inférieur à 100 ?\n",
    "\n",
    "[Triplets Pythagoricien](http://villemin.gerard.free.fr/Wwwgvmm/Addition/TripProp.htm)"
   ]
  },
  {
   "cell_type": "markdown",
   "metadata": {},
   "source": [
    "## Défi 15 : Flocon de VON KOCH  \n",
    "\n"
   ]
  },
  {
   "cell_type": "markdown",
   "metadata": {},
   "source": [
    "[Courbe de VON KOCH](https://www.mathcurve.com/fractals/koch/koch.shtml)\n",
    "\n",
    "+ Utiliser le module turtle pour dessiner la courbe suivante : \n"
   ]
  },
  {
   "cell_type": "code",
   "execution_count": 1,
   "metadata": {
    "scrolled": true
   },
   "outputs": [
    {
     "data": {
      "text/html": [
       "\n",
       "        <iframe\n",
       "            width=\"100%\"\n",
       "            height=\"250\"\n",
       "            src=\"https://www.lespritsorcier.org/wp-content/uploads/2016/09/Koch_n4500.png\"\n",
       "            frameborder=\"0\"\n",
       "            allowfullscreen\n",
       "        ></iframe>\n",
       "        "
      ],
      "text/plain": [
       "<IPython.lib.display.IFrame at 0xc28d806400>"
      ]
     },
     "execution_count": 1,
     "metadata": {},
     "output_type": "execute_result"
    }
   ],
   "source": [
    "from IPython.display import IFrame, display\n",
    "IFrame('https://www.lespritsorcier.org/wp-content/uploads/2016/09/Koch_n4500.png', width='100%', height=250)"
   ]
  }
 ],
 "metadata": {
  "kernelspec": {
   "display_name": "Python 3",
   "language": "python",
   "name": "python3"
  },
  "language_info": {
   "codemirror_mode": {
    "name": "ipython",
    "version": 3
   },
   "file_extension": ".py",
   "mimetype": "text/x-python",
   "name": "python",
   "nbconvert_exporter": "python",
   "pygments_lexer": "ipython3",
   "version": "3.6.3"
  }
 },
 "nbformat": 4,
 "nbformat_minor": 2
}
