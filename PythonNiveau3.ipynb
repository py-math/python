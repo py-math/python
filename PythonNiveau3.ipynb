{
 "cells": [
  {
   "cell_type": "markdown",
   "metadata": {},
   "source": [
    "# Python niveau 3\n",
    "\n",
    "## Création de fonctions\n",
    "\n",
    "Dans l'épisode 1, nous avions utilisé des fonctions.\n",
    "\n",
    "Nous avions vu que, comme en mathématiques, les fonctions de Python prennent un ou plusieurs arguments donnés entre parenthèses après le nom de la fonction et retourne un résultat (qui peut être vide).\n",
    "\n",
    "Créons nos propres fonctions.\n",
    "\n",
    "Soit $f$ la fonction définie sur $\\mathbb{R}$ par $f(x)=3x+2$.\n",
    "\n",
    "Cette phrase se traduit en Python par `def f(x)` suivi d'un bloc d'instructions contenant éventuellement un objet à retourner. Exemples ci-dessous."
   ]
  },
  {
   "cell_type": "code",
   "execution_count": null,
   "metadata": {
    "collapsed": true
   },
   "outputs": [],
   "source": [
    "# exemple long\n",
    "def f(x):\n",
    "    y = 3*x+2\n",
    "    return y"
   ]
  },
  {
   "cell_type": "code",
   "execution_count": null,
   "metadata": {
    "collapsed": true
   },
   "outputs": [],
   "source": [
    "f(2)"
   ]
  },
  {
   "cell_type": "code",
   "execution_count": null,
   "metadata": {
    "collapsed": true
   },
   "outputs": [],
   "source": [
    "# exemple court\n",
    "def f(x):\n",
    "    return 3*x+2\n",
    "f(2)"
   ]
  },
  {
   "cell_type": "markdown",
   "metadata": {},
   "source": [
    "Une fonction est un objet python référencé par une étiquette qui peut être utilisée comme n'importe quel objet."
   ]
  },
  {
   "cell_type": "code",
   "execution_count": null,
   "metadata": {
    "collapsed": true
   },
   "outputs": [],
   "source": [
    "type(f)"
   ]
  },
  {
   "cell_type": "markdown",
   "metadata": {},
   "source": [
    "Par exemple, écrivons une fonction Python qui recherche par balayage le minimum d'une fonction mathématique sur un intervalle donné.\n",
    "\n",
    "Nous avons besoin en entrée de notre fonction minimum, ce sont les arguments :\n",
    "- la fonction à étudier notée g\n",
    "- les bornes de l'intervalle notées a et b\n",
    "- la précision souhaitée notée pas\n",
    "\n",
    "En sortie, la fonction minimum doit retourner le minimum trouvé avec la précision donnée.\n",
    "\n",
    "Voici le code de la fonction minimum :"
   ]
  },
  {
   "cell_type": "code",
   "execution_count": null,
   "metadata": {
    "collapsed": true
   },
   "outputs": [],
   "source": [
    "def minimum(g,a,b,pas):\n",
    "    min = g(a)\n",
    "    a = a + pas\n",
    "    while a <= b:\n",
    "        if g(a) < min:\n",
    "            min = g(a)\n",
    "        a = a + pas\n",
    "    return min"
   ]
  },
  {
   "cell_type": "code",
   "execution_count": null,
   "metadata": {
    "collapsed": true
   },
   "outputs": [],
   "source": [
    "minimum(f,1,3,0.1)"
   ]
  },
  {
   "cell_type": "markdown",
   "metadata": {},
   "source": [
    "Essayons avec la fonction carré entre -1 et 3."
   ]
  },
  {
   "cell_type": "code",
   "execution_count": null,
   "metadata": {
    "collapsed": true
   },
   "outputs": [],
   "source": [
    "def carré(x):\n",
    "    return x*x\n",
    "minimum(carré,-1,3,0.1)"
   ]
  },
  {
   "cell_type": "markdown",
   "metadata": {},
   "source": [
    "Nous obtenons bien une valeur approchée du minimum de la fonction carré sur [-1;3] à 0,1 près même si on s'attendait à autre chose...\n",
    "(c'est l'exemple du niveau 1)\n",
    "\n",
    "Nous verrons dans la suite comment corriger cette fonction."
   ]
  },
  {
   "cell_type": "markdown",
   "metadata": {},
   "source": [
    "## Utilisation de fonctions\n",
    "\n",
    "Pour pouvoir réutiliser nos belles fonctions, Python permet de les enregistrer dans un fichier et de les importer dans nos programmes.\n",
    "\n",
    "Par exemple, si nous avons écrit notre fonction carré dans le fichier lycée.py, nous pourrons écrire `from lycée import carré` et Python se charge d'aller lire le fichier lycée.py, d'y chercher la définition de la fonction carré pour que nous puissions l'utiliser dans notre programme.\n",
    "\n",
    "Python est ainsi livré avec une panoplie de bibliothèques de fonctions (et d'objets), que nous pouvons importer à l'aide des mots clés `from ... import ...`.\n",
    "\n",
    "Par exemple, la bibliothèque **math** contient la fonction racine carré notée **sqrt**."
   ]
  },
  {
   "cell_type": "code",
   "execution_count": null,
   "metadata": {
    "collapsed": true
   },
   "outputs": [],
   "source": [
    "from math import sqrt\n",
    "minimum(sqrt,2,5,0.1)"
   ]
  },
  {
   "cell_type": "markdown",
   "metadata": {},
   "source": [
    "Nous pouvons importer l'ensemble des fonctions mathématiques d'un coup avec `from math import *`.\n",
    "\n",
    "Ainsi, nous avons aussi utliser la fonction cosinus et la constante pi (c'est une étiquette sur la valeur approchée de $\\pi$ avec la plus grande précision admise par le type flottant)."
   ]
  },
  {
   "cell_type": "code",
   "execution_count": null,
   "metadata": {
    "collapsed": true
   },
   "outputs": [],
   "source": [
    "from math import *\n",
    "minimum(cos,0,2*pi,0.1)"
   ]
  },
  {
   "cell_type": "markdown",
   "metadata": {},
   "source": [
    "nous pouvons alors améliorer notre fonction minimum à l'aide de la fonction `round( x, nombrededécimales )`."
   ]
  },
  {
   "cell_type": "code",
   "execution_count": null,
   "metadata": {
    "collapsed": true
   },
   "outputs": [],
   "source": [
    "def minimum(g,a,b,pas):\n",
    "    min = g(a)\n",
    "    a = a + pas\n",
    "    while a <= b:\n",
    "        if g(a) < min:\n",
    "            min = g(a)\n",
    "        a = a + pas\n",
    "    if pas>1:\n",
    "        return(round(min,0))\n",
    "    else:\n",
    "        return round(min,int(abs(log10(pas))))"
   ]
  },
  {
   "cell_type": "code",
   "execution_count": null,
   "metadata": {
    "collapsed": true
   },
   "outputs": [],
   "source": [
    "minimum(cos,0,2*pi,0.1)"
   ]
  },
  {
   "cell_type": "code",
   "execution_count": null,
   "metadata": {
    "collapsed": true
   },
   "outputs": [],
   "source": [
    "minimum(carré,-1,3,0.1)"
   ]
  },
  {
   "cell_type": "markdown",
   "metadata": {},
   "source": [
    "## Variables locales\n",
    "\n",
    "Les étiquettes (variables) utilisées dans les fonctions sont locales. C'est à dire qu'elles n'existent pas en dehors de la fonction. Python génère une erreur si on tente d'y accéder."
   ]
  },
  {
   "cell_type": "code",
   "execution_count": null,
   "metadata": {
    "collapsed": true
   },
   "outputs": [],
   "source": [
    "pas"
   ]
  },
  {
   "cell_type": "code",
   "execution_count": null,
   "metadata": {
    "collapsed": true
   },
   "outputs": [],
   "source": [
    "min"
   ]
  },
  {
   "cell_type": "markdown",
   "metadata": {},
   "source": [
    "**min** existe en dehors de la fonction **minimum** mais il ne s'agit pas du **min** de notre fonction. C'est une fonction définie dans la bibliothèque **math** que nous avons importé. La preuve ci-dessous."
   ]
  },
  {
   "cell_type": "code",
   "execution_count": null,
   "metadata": {
    "collapsed": true
   },
   "outputs": [],
   "source": [
    "min(1,2,3)"
   ]
  },
  {
   "cell_type": "markdown",
   "metadata": {},
   "source": [
    "Python ne nous permet pas d'accéder aux étiquettes (variables) hors d'une fonction (sauf si on le force mais c'est une mauvaise idée).\n",
    "\n",
    "Si nous affectons une valeur à l'une de ces étiquettes (variables) globales, Python en crée une temporairement dans la fonction. Cette étiquette sera détruite à la sortie de la fonction et nous aurons à nouveau accès à l'étiquette globale."
   ]
  },
  {
   "cell_type": "code",
   "execution_count": null,
   "metadata": {
    "collapsed": true
   },
   "outputs": [],
   "source": [
    "a = 1\n",
    "def fonction():\n",
    "    a = 2\n",
    "    # a est redéfini, nous n'avons pas accès au a global\n",
    "    print('le a local vaut :',a)\n",
    "\n",
    "fonction()\n",
    "# a n'a pas été modifié par la fonction\n",
    "print('le a global vaut :',a)"
   ]
  }
 ],
 "metadata": {
  "kernelspec": {
   "display_name": "Python 3",
   "language": "python",
   "name": "python3"
  },
  "language_info": {
   "codemirror_mode": {
    "name": "ipython",
    "version": 3
   },
   "file_extension": ".py",
   "mimetype": "text/x-python",
   "name": "python",
   "nbconvert_exporter": "python",
   "pygments_lexer": "ipython3",
   "version": "3.6.3"
  }
 },
 "nbformat": 4,
 "nbformat_minor": 2
}
